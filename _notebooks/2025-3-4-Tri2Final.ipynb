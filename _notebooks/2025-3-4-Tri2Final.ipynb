{
 "cells": [
  {
   "cell_type": "markdown",
   "metadata": {},
   "source": [
    "---\n",
    "layout: post\n",
    "title: Tri 2 Final\n",
    "description:  Tri 2 Final\n",
    "type: issues \n",
    "comments: true\n",
    "---"
   ]
  },
  {
   "cell_type": "markdown",
   "metadata": {},
   "source": [
    "# What I have done\n",
    "Comment box and content\n",
    "<img width=\"1099\" alt=\"Image\" src=\"https://github.com/user-attachments/assets/21b5141e-5611-4cbe-b482-39332855bdd1\" />\n",
    "Grade Viewer\n",
    "<img width=\"952\" alt=\"Image\" src=\"https://github.com/user-attachments/assets/79da876d-38cd-4f0c-b312-b434b0db11d5\" />"
   ]
  },
  {
   "cell_type": "markdown",
   "metadata": {},
   "source": [
    "## Issues that I have made\n",
    "- [Sprint 4](https://github.com/KaydenLe/KaydenStudent2025/issues/10)\n",
    "- [Girls in CS Panel](https://github.com/KaydenLe/KaydenStudent2025/issues/11)\n",
    "- [Sprint 5](https://github.com/KaydenLe/KaydenStudent2025/issues/12)\n",
    "\n",
    "## Burn Down lists\n",
    "<img width=\"253\" alt=\"Image\" src=\"https://github.com/user-attachments/assets/5832266f-319c-42a0-89f9-38de81f44eb3\" />\n",
    "<img width=\"134\" alt=\"Image\" src=\"https://github.com/user-attachments/assets/8c8a0fef-c22f-40a2-8dab-e31e789c79a5\" />"
   ]
  },
  {
   "cell_type": "markdown",
   "metadata": {},
   "source": [
    "## Lessons\n",
    "[Jquery and Thymeleaf lesson](https://nighthawkcoders.github.io/portfolio_2025/period3/jquery)\n",
    "\n",
    "# Features and Key Feature\n",
    "- [Submissions](https://nighthawkcoders.github.io/portfolio_2025/student/submissions)\n",
    "- [Grades](https://nighthawkcoders.github.io/portfolio_2025/student/view-grades)\n",
    "\n",
    "# N@M Feedback\n",
    "![Image](https://github.com/user-attachments/assets/2b227b1b-1696-4f4a-97cf-4cc9f4216bb7)\n",
    "![Image](https://github.com/user-attachments/assets/4c43c397-c5f9-451b-83f2-79f35ec5a6c2)\n",
    "![Image](https://github.com/user-attachments/assets/9f8eaf36-c5be-4e8b-89df-01623c24ae6b)\n",
    "\n",
    "- [Feedback](https://github.com/CSA-Coders-2025/Planning-Repository-Issue-House-/issues/208#issue-2875965939)\n",
    "\n",
    "# Visualization\n",
    "<img width=\"438\" alt=\"Image\" src=\"https://github.com/user-attachments/assets/dc81bd1c-48dd-4be9-b763-4dcec2b9b40a\" />\n",
    "\n",
    "[Explanation of Submissions Backend](https://nighthawkcoders.github.io/portfolio_2025/student/submissions/backend)\n",
    "\n",
    "# MCQ/FRQ Work\n",
    "[2015 Practice Exam MCQ](https://github.com/KaydenLe/KaydenStudent2025/issues/14)"
   ]
  }
 ],
 "metadata": {
  "language_info": {
   "name": "python"
  },
  "orig_nbformat": 4
 },
 "nbformat": 4,
 "nbformat_minor": 2
}
