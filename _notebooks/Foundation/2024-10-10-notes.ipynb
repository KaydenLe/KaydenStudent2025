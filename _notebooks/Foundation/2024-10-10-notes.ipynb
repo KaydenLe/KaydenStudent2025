{
 "cells": [
  {
   "cell_type": "markdown",
   "metadata": {},
   "source": [
    "---\n",
    "layout: post\n",
    "title: Sprint 2 Notes\n",
    "description:  Sprint 2 Notes\n",
    "type: issues \n",
    "comments: true\n",
    "---"
   ]
  },
  {
   "cell_type": "markdown",
   "metadata": {},
   "source": [
    "## Unit 1: Primitive Types\n",
    "- Data Types: int, double, boolean, char\n",
    "- Variable Declaration: int x = 5;\n",
    "- Arithmetic: +, -, *, /, %, precedence rules (PEMDAS)\n",
    "- Casting: int to double, double to int (truncation)\n",
    "- Input: Scanner sc = new Scanner(System.in);\n",
    "- Output: System.out.println();\n",
    "## Unit 2: Using Objects\n",
    "- Objects: Created with new\n",
    "- Strings: String str = “hello”;\n",
    "- Methods: length(), substring(), indexOf(), charAt()\n",
    "- Null References: null\n",
    "- Equality: == (reference), .equals() (content)\n",
    "- Math Class: Math.pow(), Math.sqrt(), Math.random()\n",
    "## Unit 4: Iteration\n",
    "- Loops:\n",
    "    - while(condition) { }\n",
    "    - for(initialization; condition; update) { }\n",
    "    - do { } while(condition);\n",
    "- Break/Continue: Exit or skip loop iteration\n",
    "- Nested Loops: Loop inside another loop\n",
    "- Loop Applications: Traversing arrays, searching, counting\n",
    "## Unit 5: Writing Classes\n",
    "- Class Anatomy: Fields, methods, constructors\n",
    "- Constructor: Initializes object state\n",
    "- public ClassName(type parameter) { }\n",
    "- Accessors (Getters): Return field value\n",
    "- Mutators (Setters): Modify field value\n",
    "- Static Members: Shared across all instances\n",
    "- Encapsulation: Use private fields and public methods\n",
    "## Unit 6: Array\n",
    "- Declaration: type[] arrayName = new type[size];\n",
    "- Access Elements: array[index]\n",
    "- Iteration: Use loops to traverse arrays\n",
    "- Common Operations: Finding max/min, sum, average\n",
    "- Bounds Checking: Avoid ArrayIndexOutOfBoundsException\n",
    "## Unit 7: ArrayList\n",
    "- ArrayList Declaration: ArrayList list = new \n",
    "- ArrayList<>();\n",
    "- Methods:\n",
    "    - add(), remove(), set(), get(), size()\n",
    "- Dynamic Resizing: Can grow or shrink as needed\n",
    "- Iteration: For-each or standard for loop\n",
    "- Autoboxing/Unboxing: Convert between primitives and wrapper objects\n",
    "## Unit 8: 2D Arrays\n",
    "- Declaration: type[][] arrayName = new type[rows][cols];\n",
    "- Access Elements: array[row][col]\n",
    "- Iteration: Use nested loops for row-column traversal\n",
    "- Applications: Grids, matrices\n",
    "- Common Algorithms: Row-wise, column-wise processing\n",
    "## Unit 9: Inheritance\n",
    "- Inheritance: class Subclass extends Superclass\n",
    "- Subclass: Inherits fields/methods from superclass\n",
    "- Method Overriding: Redefine superclass method in subclass\n",
    "- Super Keyword: Call superclass constructor/method\n",
    "- Polymorphism: Use superclass reference for subclass object\n",
    "- Object Class: All classes inherit from Object\n",
    "\n"
   ]
  }
 ],
 "metadata": {
  "language_info": {
   "name": "python"
  },
  "orig_nbformat": 4
 },
 "nbformat": 4,
 "nbformat_minor": 2
}
