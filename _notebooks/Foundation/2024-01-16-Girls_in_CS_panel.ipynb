{
 "cells": [
  {
   "cell_type": "markdown",
   "metadata": {},
   "source": [
    "---\n",
    "layout: post\n",
    "title: Girls in CS Panel\n",
    "description:  CS Panel\n",
    "type: issues \n",
    "comments: true\n",
    "---"
   ]
  },
  {
   "cell_type": "markdown",
   "metadata": {},
   "source": [
    "![IMG_5112](https://github.com/user-attachments/assets/6350896c-0101-438a-9ba0-90b70a34a317)\n",
    "## Notes\n",
    "- You have to explain your code and you should know your code line by line\n",
    "- Being clear and concise when talking to people are very important\n",
    "- Being clear and coding agile methodology\n",
    "- Flow chars are a big part of communicating ideas\n",
    "- Using Git helped a lot and was useful for specific skills for big companies\n",
    "- Comments on every line is important \n",
    "- GPA does not matter in college when applying to companies."
   ]
  }
 ],
 "metadata": {
  "language_info": {
   "name": "python"
  },
  "orig_nbformat": 4
 },
 "nbformat": 4,
 "nbformat_minor": 2
}
