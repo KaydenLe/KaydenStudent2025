{
 "cells": [
  {
   "cell_type": "markdown",
   "metadata": {},
   "source": [
    "## What is jQuery?\n",
    "\n",
    "jQuery is a lightweight JavaScript library designed to simplify coding by allowing you to write less while accomplishing more. It makes working with JavaScript on your website easier by condensing complex tasks that typically require multiple lines of code into simple, callable methods.\n",
    "\n",
    "Additionally, jQuery streamlines many advanced JavaScript functions, such as AJAX calls and DOM manipulation, making them more accessible and efficient."
   ]
  },
  {
   "cell_type": "markdown",
   "metadata": {},
   "source": [
    "## The implications of jQuery\n",
    "\n",
    "jQuery includes the following.\n",
    "\n",
    "HTML/DOM manipulation\n",
    "CSS manipulation\n",
    "HTML event methods\n",
    "Effects and animations\n",
    "AJAX (Asynchronous Javascript and XML)\n",
    "Utilities\n",
    "\n",
    "Jquery also has plugins for almoost any task."
   ]
  },
  {
   "cell_type": "markdown",
   "metadata": {},
   "source": [
    "## jQuery syntax and how to use it\n",
    "\n",
    "With jQuery you slect (query) HTML elements and perform \"actions\" on them.\n",
    "\n",
    "Basic syntax is $(selector).action()\n",
    "\n",
    "A $ symbol to define/access jQuery\n",
    "A (selector) to “query (or find)” HTML elements\n",
    "A jQuery action() to be performed on the element(s)\n",
    "\n",
    "Examples:\n",
    "$(this).hide() - hides the current element\n",
    "\n",
    "$(“p”).hide() - hides all <p> elements\n",
    "\n",
    "$(“.test”).hide() - hides all elements with class=”test”\n",
    "\n",
    "$(“#test”).hide() - hides the element with id=”test”\n"
   ]
  },
  {
   "cell_type": "markdown",
   "metadata": {},
   "source": [
    "## Popcorn hack\n",
    "Write in one of the comments where the selector is.\n"
   ]
  },
  {
   "cell_type": "code",
   "execution_count": null,
   "metadata": {},
   "outputs": [],
   "source": [
    "$(document).ready(function(){     // \n",
    "    $(\"button\").click(function(){ //\n",
    "      $(\"p\").hide();              //\n",
    "    });                           //\n",
    "  });                             //"
   ]
  },
  {
   "cell_type": "markdown",
   "metadata": {},
   "source": [
    "The element Selector\n",
    "\n",
    "$(“p”) The #id Selector\n",
    "$(“#test”) The .class Selector\n",
    "$(“.class”)\n",
    "The Document Ready Event\n",
    "\n",
    "All jQuery methods begin inside a document ready event:"
   ]
  },
  {
   "cell_type": "code",
   "execution_count": null,
   "metadata": {},
   "outputs": [],
   "source": [
    "$(document).ready(function(){\n",
    "\n",
    "    // jQuery methods go here...\n",
    "  \n",
    "  });"
   ]
  },
  {
   "cell_type": "markdown",
   "metadata": {},
   "source": [
    "This is to prevent any jQuery code from running before the document is finished loading (is ready).\n",
    "\n",
    "It is good practice to wait for the document to be fully loaded and ready before working with it. This also allows you to have your JavaScript code before the body of your document, in the head section."
   ]
  },
  {
   "cell_type": "markdown",
   "metadata": {},
   "source": [
    "Reason:\n",
    "\n",
    "Trying to hide an element that is not created yet\n",
    "Trying to get the size of an image that is not loaded yet\n"
   ]
  },
  {
   "cell_type": "code",
   "execution_count": null,
   "metadata": {},
   "outputs": [],
   "source": [
    "$(function(){\n",
    "    \n",
    "    // An even quicker way to do it\n",
    "    // jQuery methods go here...\n",
    "  \n",
    "  });\n"
   ]
  },
  {
   "cell_type": "markdown",
   "metadata": {},
   "source": [
    "jQuery methods and event handling\n",
    "What are Events?\n",
    "\n",
    "All the different visitors’ actions that a web page can respond to are called events\n",
    "Mouse Events\tKeyboard Events\tForm Events\tDocument/Window Events\n",
    "click\tkeypress\tsubmit\tload\n",
    "dblclick\tkeydown\tchange\tresize\n",
    "mouseenter\tkeyup\tfocus\tscroll\n",
    "mouseleave\t \tblur\tunload\n"
   ]
  },
  {
   "cell_type": "markdown",
   "metadata": {},
   "source": [
    "## Making requests with AJAX\n",
    "\n",
    "AJAX, which stands for Asynchronous JavaScript and XML, enables web pages to update asynchronously more efficiently. It operates on a promise-based system, where a JavaScript Promise represents the eventual success or failure of an asynchronous request.\n",
    "\n",
    "## WHy use jQuery AJAX over a normal aync request or AJAX request?\n",
    "Against a normal sun request AJAX jas a lot of advantages:\n",
    "Easier Error Handling: Promises are much easier to deal with than callbacks. If an error occurs in a promise, it will be passed down to the next catch() clause.\n",
    "Simpler API Chaining: If you want to wait for one operation to finish before starting another one you can simply use .then().\n",
    "\n",
    "Normal async request:"
   ]
  },
  {
   "cell_type": "code",
   "execution_count": null,
   "metadata": {},
   "outputs": [],
   "source": [
    "getUserLocation(function(error, location) {\n",
    "    if (error) {\n",
    "        console.error('Error:', error);\n",
    "    } else {\n",
    "        getForecast(location, function(error, forecast) {\n",
    "            if (error) {\n",
    "                console.error('Error:', error);\n",
    "            } else {\n",
    "                console.log('Forecast:', forecast);\n",
    "            }\n",
    "        });\n",
    "    }\n",
    "});"
   ]
  },
  {
   "cell_type": "markdown",
   "metadata": {},
   "source": [
    "Ajax requests wihtout any library"
   ]
  },
  {
   "cell_type": "code",
   "execution_count": null,
   "metadata": {},
   "outputs": [],
   "source": [
    "fetch('api/location')\n",
    ".then(response => response.json())\n",
    ".then(location => fetch('api/forecast/' + location))\n",
    ".then(response => response.json())\n",
    ".then(forecast => {\n",
    "    console.log('Forecast:', forecast);\n",
    "})\n",
    ".catch(error => {\n",
    "    console.error('Error:', error);\n",
    "});"
   ]
  },
  {
   "cell_type": "markdown",
   "metadata": {},
   "source": [
    "Ajax requests with jQuery"
   ]
  },
  {
   "cell_type": "code",
   "execution_count": null,
   "metadata": {},
   "outputs": [],
   "source": [
    "$.ajax({ url: 'api/location', method: 'GET', dataType: 'json' })\n",
    ".then(function(location) {\n",
    "    return $.ajax({ url: 'api/forecast/' + location, method: 'GET', dataType: 'json' });\n",
    "})\n",
    ".then(function(forecast) {\n",
    "    console.log('Forecast:', forecast);\n",
    "})\n",
    ".catch(function(error) {\n",
    "    console.error('Error:', error);\n",
    "});"
   ]
  }
 ],
 "metadata": {
  "kernelspec": {
   "display_name": "java (IJava/j!)",
   "language": "java",
   "name": "jbang-ijava"
  },
  "language_info": {
   "name": "java"
  },
  "orig_nbformat": 4
 },
 "nbformat": 4,
 "nbformat_minor": 2
}
