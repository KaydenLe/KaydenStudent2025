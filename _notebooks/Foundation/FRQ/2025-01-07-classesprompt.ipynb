{
 "cells": [
  {
   "cell_type": "markdown",
   "metadata": {},
   "source": [
    "---\n",
    "layout: post\n",
    "title:  Classes\n",
    "description:  Team Teach for Classes\n",
    "permalink: /classeshw\n",
    "comments: true\n",
    "menu: nav/FRQ_teach/classesperiod3.html\n",
    "sticky_rank: 1\n",
    "toc: false\n",
    "---"
   ]
  },
  {
   "cell_type": "markdown",
   "metadata": {},
   "source": [
    "# Conclusion   (Jason)"
   ]
  },
  {
   "cell_type": "markdown",
   "metadata": {
    "vscode": {
     "languageId": "plaintext"
    }
   },
   "source": [
    "The **\"Classes\"** section gives a simple guide to handling Classes FRQs in APCSA. It explains key ideas like writing class headers, constructors, and methods, and keeping instance variables private. Following these steps makes your code organized and clear, which helps earn points on the exam.\n",
    "\n",
    "### Tips  \n",
    "1. **Follow Instructions**: Always match class headers, constructors, and method details to what’s asked in the question.  \n",
    "\n",
    "2. **Keep it Simple**: Use `this.variable = parameter;` to set instance variables in constructors.  \n",
    "\n",
    "3. **Check Scoping**: Class and method headers should usually be `public`, and instance variables should always be `private`.  \n"
   ]
  },
  {
   "cell_type": "markdown",
   "metadata": {},
   "source": [
    "# **Homework!** (Jason)\n",
    "### 2017 FRQ, Question 2 - Classes\n",
    "\n",
    "#### [**Homework over here...**](https://docs.google.com/forms/d/e/1FAIpQLSfh9si2edbWDec6buhsbuA_oiq-rA2lMeY582N4i8nAxtmBoQ/viewform?usp=sf_link)\n",
    "\n",
    "![2017 FRQ, Question 2, Classes](https://i.ibb.co/VJc29TM/Screenshot-2025-01-07-at-12-39-08-PM.png)\n",
    "\n",
    "![Example 1](https://i.ibb.co/NpF8v72/Screenshot-2025-01-07-at-12-43-04-PM.png)\n",
    "\n",
    "![Example 2](https://i.ibb.co/pW4jVSX/Screenshot-2025-01-07-at-12-43-20-PM.png)\n",
    "\n",
    "![Final](https://i.ibb.co/vYTv7cX/Screenshot-2025-01-07-at-12-44-12-PM.png)\n"
   ]
  },
  {
   "cell_type": "markdown",
   "metadata": {},
   "source": [
    "## HW"
   ]
  },
  {
   "cell_type": "code",
   "execution_count": 1,
   "metadata": {
    "vscode": {
     "languageId": "java"
    }
   },
   "outputs": [
    {
     "ename": "CompilationException",
     "evalue": "",
     "output_type": "error",
     "traceback": [
      "\u001b[1m\u001b[30m|   \u001b[1m\u001b[30mpublic class MultPractice implements StudyPractice {\u001b[0m",
      "\u001b[1m\u001b[30m|   \u001b[1m\u001b[30m    private int firstInteger;\u001b[0m",
      "\u001b[1m\u001b[30m|   \u001b[1m\u001b[30m    private int secondInteger;\u001b[0m",
      "\u001b[1m\u001b[30m|   \u001b[1m\u001b[30m\u001b[0m",
      "\u001b[1m\u001b[30m|   \u001b[1m\u001b[30m    public MultPractice(int firstInteger, int secondInteger) {\u001b[0m",
      "\u001b[1m\u001b[30m|   \u001b[1m\u001b[30m        this.firstInteger = firstInteger;\u001b[0m",
      "\u001b[1m\u001b[30m|   \u001b[1m\u001b[30m        this.secondInteger = secondInteger;\u001b[0m",
      "\u001b[1m\u001b[30m|   \u001b[1m\u001b[30m    }\u001b[0m",
      "\u001b[1m\u001b[30m|   \u001b[1m\u001b[30m\u001b[0m",
      "\u001b[1m\u001b[30m|   \u001b[1m\u001b[30m\u001b[0m",
      "\u001b[1m\u001b[30m|   \u001b[1m\u001b[30m    public String getProblem() {\u001b[0m",
      "\u001b[1m\u001b[30m|   \u001b[1m\u001b[30m        return firstInteger + \" TIMES \" + secondInteger;\u001b[0m",
      "\u001b[1m\u001b[30m|   \u001b[1m\u001b[30m    }\u001b[0m",
      "\u001b[1m\u001b[30m|   \u001b[1m\u001b[30m\u001b[0m",
      "\u001b[1m\u001b[30m|   \u001b[1m\u001b[30m    public void nextProblem() {\u001b[0m",
      "\u001b[1m\u001b[30m|   \u001b[1m\u001b[30m        secondInteger++;\u001b[0m",
      "\u001b[1m\u001b[30m|   \u001b[1m\u001b[30m    }\u001b[0m",
      "\u001b[1m\u001b[30m|   \u001b[1m\u001b[30m}\u001b[0m",
      "\u001b[1m\u001b[31mUnresolved dependencies:\u001b[0m",
      "\u001b[1m\u001b[31m   - class StudyPractice\u001b[0m"
     ]
    }
   ],
   "source": [
    "public class MultPractice implements StudyPractice {\n",
    "    private int firstInteger;\n",
    "    private int secondInteger;\n",
    "\n",
    "    public MultPractice(int firstInteger, int secondInteger) {\n",
    "        this.firstInteger = firstInteger;\n",
    "        this.secondInteger = secondInteger;\n",
    "    }\n",
    "\n",
    "\n",
    "    public String getProblem() {\n",
    "        return firstInteger + \" TIMES \" + secondInteger;\n",
    "    }\n",
    "\n",
    "    public void nextProblem() {\n",
    "        secondInteger++;\n",
    "    }\n",
    "}\n"
   ]
  }
 ],
 "metadata": {
  "kernelspec": {
   "display_name": "java (IJava/j!)",
   "language": "java",
   "name": "jbang-ijava"
  },
  "language_info": {
   "codemirror_mode": "java",
   "file_extension": ".jshell",
   "mimetype": "text/x-java-source",
   "name": "Java",
   "pygments_lexer": "java",
   "version": "17.0.11+7-LTS-207"
  }
 },
 "nbformat": 4,
 "nbformat_minor": 2
}
