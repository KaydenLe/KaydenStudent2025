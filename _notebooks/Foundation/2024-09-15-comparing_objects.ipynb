{
 "cells": [
  {
   "cell_type": "markdown",
   "metadata": {},
   "source": [
    "---\n",
    "layout: post\n",
    "title: Camparing Objects\n",
    "description:  Learning about camparing objects\n",
    "type: issues \n",
    "comments: true\n",
    "---"
   ]
  },
  {
   "cell_type": "markdown",
   "metadata": {},
   "source": [
    "Eample of house class:\n",
    "House myHouse = new House \"(\"Green\", 150, 3);\n",
    "House bobsHouse;\n",
    "HHouse momsHouse = myHouse;\n",
    "\n",
    "\n",
    "How many objects references did we declare? 4 because of the different houses and by their names.\n",
    "How many objects did we make?we made 2 because there is bobs hosue and my house because moms house are the same house but under 2 different names."
   ]
  },
  {
   "cell_type": "markdown",
   "metadata": {},
   "source": [
    "myHouse.equals(momshouse)= true because they are the same\n",
    "myHouse.equals(annasHouse)=true because they are the same house but not the same house\n",
    "ran what"
   ]
  }
 ],
 "metadata": {
  "language_info": {
   "name": "python"
  },
  "orig_nbformat": 4
 },
 "nbformat": 4,
 "nbformat_minor": 2
}
