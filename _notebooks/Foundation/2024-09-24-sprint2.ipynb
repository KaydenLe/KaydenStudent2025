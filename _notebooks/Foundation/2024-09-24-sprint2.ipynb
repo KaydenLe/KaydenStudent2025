{
 "cells": [
  {
   "cell_type": "markdown",
   "metadata": {},
   "source": [
    "---\n",
    "layout: post\n",
    "title: Sprint 2 \n",
    "description:  Sprint 2 blog\n",
    "type: issues \n",
    "comments: true\n",
    "---"
   ]
  },
  {
   "cell_type": "markdown",
   "metadata": {},
   "source": [
    "Assignment | Points | Grade | Evidence\n",
    "-- | -- | -- | --\n",
    "Pull Request (Integration) | 2 | 1.65 |  <img width=\"1062\" alt=\"Screenshot 2024-10-09 at 4 19 20 PM\" src=\"https://github.com/user-attachments/assets/49db0eac-f93f-462e-92da-10b05ba5ef2d\">\n",
    "Relevancy Checklist (Peer) | 2 | 79*90/2=1.75 | https://nighthawkcoders.github.io/portfolio_2025/csa/unit3-p1/unit3-7\n",
    "Lesson (Group) | 1 | 0.8 | https://kaydenle.github.io/KaydenStudent2025/csa/unit3-p1/unit3-7 <img width=\"1056\" alt=\"Screenshot 2024-10-09 at 7 33 54 PM\" src=\"https://github.com/user-attachments/assets/4732dd5a-71c9-4a8e-8de0-696723bdf3fd\">\n",
    "Homework, Popcorn Hacks | 1 x 8 | (unit2)+0.9+0.9+0.9+0.94+0.91+0.95+0.725+(from our teamteach grading)) | <img width=\"123\" alt=\"Screenshot 2024-10-18 at 8 57 43 AM\" src=\"https://github.com/user-attachments/assets/ac505076-6004-469a-bd44-1a8914d30eea\">\n",
    "Individual Contribution | 1 | 0.8 | <img width=\"901\" alt=\"Screenshot 2024-10-10 at 9 21 32 AM\" src=\"https://github.com/user-attachments/assets/760c1d01-141b-4d47-b428-4ece370e7cf8\"> <img width=\"887\" alt=\"Screenshot 2024-10-10 at 9 21 54 AM\" src=\"https://github.com/user-attachments/assets/93beb2db-0afe-4671-9a21-88ebd487ba2a\"> <img width=\"729\" alt=\"Screenshot 2024-10-10 at 9 22 14 AM\" src=\"https://github.com/user-attachments/assets/2a8f50d7-74f4-436a-a7fd-0eabfea61c0d\">\n",
    "Personal Notebooks / Blogs | 1 | 0.9 | https://kaydenle.github.io/KaydenStudent2025/2024/10/10/notes_IPYNB_2_.html\n",
    "Total | 12\n",
    "\n",
    "Skill | Points | Grade| Evidence\n",
    "-- | -- | -- | --\n",
    "Work Habits (Analytics) | 1 | 0.88 | <img width=\"853\" alt=\"Screenshot 2024-10-09 at 8 23 37 PM\" src=\"https://github.com/user-attachments/assets/7b254dab-855c-44cf-9ffd-1e6bb7b2c4e9\">\n",
    "Team Planning (Issue) | 1 | 0.89 | https://github.com/alishahussain/alishanew2025/issues/3#issue-2577352434\n",
    "Presentation Memories | 1 | 0.9 | <img width=\"920\" alt=\"Screenshot 2024-10-09 at 8 53 52 PM\" src=\"https://github.com/user-attachments/assets/5c578c3c-6685-4fc5-becf-4dc844fe42b6\"> <img width=\"906\" alt=\"Screenshot 2024-10-09 at 8 54 26 PM\" src=\"https://github.com/user-attachments/assets/6796e6d8-66d0-4059-b7da-9f4095c43d47\">\n",
    "Grading and Feedback | 1 | 0.89 | Added the Rubric now https://docs.google.com/spreadsheets/d/1W9nuXvCk3F3iMjvrlYa6nhQNuXGSQoxPxa-UzZm2o-g/edit?usp=sharing\n",
    "Beyond Perfunctory | 1 | 0.85 | <img width=\"557\" alt=\"Screenshot 2024-10-10 at 8 33 05 AM\" src=\"https://github.com/user-attachments/assets/a5c17b13-7ff0-4cd1-a1cb-c5257bf019b7\">\n",
    "Total | 5 | 4.41\t\n",
    "\n",
    "Assignment | Weightage | Grade | Comments (Dinesh Sahai/Tara Sehdave)\n",
    "-- | -- | -- | --\n",
    "College Board Coverage | 20 | (18+18)/2=18 | Covers all the lesson material/Goes over all necessary topics.\n",
    "Java Examples | 30 | (27+29)/2=28 | Lots of in-depth examples/Good Java examples\n",
    "Popcorn Hack Usage | 10 | (8+7)/2=7.5 | Hack could be more interactive/Hacks could be more interactive instead of asking an open ended question. Have people answer with code.\n",
    "Homework | 10 | (9+9)/2=9 | Very thorough and covers all topics well/Homework reflects lesson\n",
    "Grading Plan | 10 | (9+8)/2=8.5 | Standard grading plan w/ explanations/Standard grading plan\n",
    "Original an Creative | 10 | (8+8)/2=8 | Including a theme or game would be nice/Could include theme to make more interesting for students\n",
    "Total | 90 | 79"
   ]
  }
 ],
 "metadata": {
  "language_info": {
   "name": "python"
  },
  "orig_nbformat": 4
 },
 "nbformat": 4,
 "nbformat_minor": 2
}
