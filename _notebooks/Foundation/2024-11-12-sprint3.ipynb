{
 "cells": [
  {
   "cell_type": "markdown",
   "metadata": {},
   "source": [
    "---\n",
    "layout: post\n",
    "title: Sprint 3\n",
    "description:  Sprint 3 blog\n",
    "type: issues \n",
    "comments: true\n",
    "---"
   ]
  },
  {
   "cell_type": "markdown",
   "metadata": {},
   "source": [
    "## Team Issue\n",
    "Ideation: https://github.com/JITS-K/JITS_Frontend_Project1/issues/1\n",
    "\n",
    "Plan: https://github.com/JITS-K/JITS_Frontend_Project1/issues/4"
   ]
  },
  {
   "cell_type": "markdown",
   "metadata": {},
   "source": [
    "| **Assignment**                | **Points**    | **Grade** | **Evidence** |\n",
    "|-------------------------------|---------------|-----------|--------------|\n",
    "| Sprint 1-3 Review Ticket      | 3             |           |              |\n",
    "| Sprint 3 Team Issue(s)/Plan   | 2             |    2       |     https://github.com/JITS-K/JITS_Frontend_Project1/issues/4         |\n",
    "| Beginning-2-End Contribution  | 2             |   2        |  https://github.com/nighthawkcoders/spring_2025/compare/master...CSA-Coders-2025:CSA_Combined_Backend_Fork:mortevision            |\n",
    "| N@tM Team Presentation        | 2             |     2      |              |\n",
    "| Live Review Indi Demo         | 1             |    1       |              |\n",
    "| **Total**                     | 10            |           |              |\n",
    "\n",
    "| **Skill**                  | **Points**    | **Grade** | **Evidence** |\n",
    "|----------------------------|---------------|-----------|--------------|\n",
    "| Work Habits (Analytics)    | 1             |    1       |  <img width=\"889\" alt=\"Screenshot 2024-11-13 at 9 42 39 AM\" src=\"https://github.com/user-attachments/assets/deb2dd56-f687-441b-9d94-426773425cb9\">            |\n",
    "| Evidence of Role in Team   | 1             |     1      |              | \n",
    "| Function / Purpose Design  | 1             |   1        |  <img width=\"489\" alt=\"Screenshot 2024-11-13 at 9 44 12 AM\" src=\"https://github.com/user-attachments/assets/dcb7d5fa-ca5d-4828-9b39-494195096a39\">       | \n",
    "| Live Review                | 2             |           |              | \n",
    "| **Total**                  | 5             |           |              |a"
   ]
  },
  {
   "cell_type": "markdown",
   "metadata": {},
   "source": [
    "## Tri 3 Review Ticket\n",
    "\n",
    "1. Tools Mastery\n",
    "\n",
    "    This trimester, I became proficient with tools such as Postman, VSCode, Terminal, UML, and GitHub. While I was somewhat familiar with these tools in CSP, I wasn’t entirely confident in using them. However, this trimester, as I integrated with my new team, I saw how essential they are, particularly Postman, when working on projects involving APIs. Postman was invaluable for testing my endpoints before I developed the frontend, preventing the need to redo work when issues arose. I also found it fascinating to analyze message bodies and see how they interacted with the game. Troubleshooting was another big part of the process, and using console logs and the Run + Debug feature was incredibly helpful. Solving those problems felt very rewarding! Additionally, I learned how to create pull requests on GitHub and manage merge conflicts, a common task given our large team.\n",
    "\n",
    "2. Programming Skills\n",
    "\n",
    "    This trimester, I learned how to work on backend APIs using Java, something I had never done before. While I had some prior experience with Java from creating small turtle games, it was fascinating to see how that knowledge translated into building a full-stack game. I also gained more experience with frontend development, an area where I already felt fairly confident.\n",
    "\n",
    "3. College Board requirements\n",
    "\n",
    "    I was able to use classes and different methods that I learned from the team teaches to this project."
   ]
  },
  {
   "cell_type": "markdown",
   "metadata": {},
   "source": [
    "## Collaboration \n",
    "\n",
    "    Iteration\n",
    "\n",
    "        I edited my code, used postman a lot of errors and 400 and 404 errors\n",
    "    \n",
    "    Think-pair-share\n",
    "\n",
    "        We had specific deadlines of when to have stuff ready by.\n",
    "\n",
    "    Online Collaboration Tools\n",
    "\n",
    "        We used discord to communicate"
   ]
  },
  {
   "cell_type": "markdown",
   "metadata": {},
   "source": [
    "## Night at the Mueseum"
   ]
  }
 ],
 "metadata": {
  "language_info": {
   "name": "python"
  },
  "orig_nbformat": 4
 },
 "nbformat": 4,
 "nbformat_minor": 2
}
