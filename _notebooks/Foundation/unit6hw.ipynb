{
 "cells": [
  {
   "cell_type": "markdown",
   "metadata": {},
   "source": [
    "---\n",
    "layout: page\n",
    "title: Unit 6 HW\n",
    "permalink: /U6/\n",
    "hide: true\n",
    "---"
   ]
  },
  {
   "cell_type": "markdown",
   "metadata": {},
   "source": [
    "## 6.1 Arrays"
   ]
  },
  {
   "cell_type": "markdown",
   "metadata": {},
   "source": [
    "## Popcorn Hack 1"
   ]
  },
  {
   "cell_type": "code",
   "execution_count": 18,
   "metadata": {},
   "outputs": [],
   "source": [
    "String[] brands = {\"Porsche\", \"Toyota\", \"BMW\", \"Nissan\", \"Mclaren\"};"
   ]
  },
  {
   "cell_type": "markdown",
   "metadata": {},
   "source": [
    "## Popcorn Hack 2\n",
    "Make an array of chars, representing people’s grades\n",
    "Try to adjust the letter grade of at least 3 people"
   ]
  },
  {
   "cell_type": "code",
   "execution_count": 19,
   "metadata": {},
   "outputs": [
    {
     "name": "stdout",
     "output_type": "stream",
     "text": [
      "[90, 85, 92, 88, 91, 90, 76]\n",
      "[85, 90, 92, 88, 91, 78, 76]\n"
     ]
    }
   ],
   "source": [
    "int[] scores = {90, 85, 92, 88, 91, 90, 76};\n",
    "\n",
    "System.out.println(Arrays.toString(scores));\n",
    "\n",
    "scores[0] = 85;\n",
    "scores[1] = 90;\n",
    "scores[5] = 78;\n",
    "\n",
    "System.out.println(Arrays.toString(scores));"
   ]
  },
  {
   "cell_type": "markdown",
   "metadata": {},
   "source": [
    "## 6.2 Traversing"
   ]
  },
  {
   "cell_type": "markdown",
   "metadata": {},
   "source": [
    "## Popcorn hack question\n",
    "Which part of the following code would I want to change if I wanted to access all odd indices of the list."
   ]
  },
  {
   "cell_type": "code",
   "execution_count": 20,
   "metadata": {},
   "outputs": [
    {
     "name": "stdout",
     "output_type": "stream",
     "text": [
      "Even Index\n",
      "0\n",
      "2\n",
      "4\n",
      "Odd Index\n",
      "1\n",
      "3\n",
      "5\n"
     ]
    }
   ],
   "source": [
    "// EVEN\n",
    "int[] list = {0, 1, 2, 3, 4, 5};\n",
    "System.out.println(\"Even Index\");\n",
    "for(int index = 0; index < list.length; index+=2){\n",
    "    System.out.println(list[index]);\n",
    "}\n",
    "\n",
    "// ODD\n",
    "int[] list = {0, 1, 2, 3, 4, 5};\n",
    "System.out.println(\"Odd Index\");\n",
    "for(int index = 1; index < list.length; index+=2){\n",
    "    System.out.println(list[index]);\n",
    "}\n"
   ]
  },
  {
   "cell_type": "markdown",
   "metadata": {},
   "source": [
    "## Popcorn hack question\n",
    "\n",
    "This while loop and the for loop we used earlier accomplish the same task. The main difference is that after the loop is completed, the variable ‘index’ in the while loop will still exist. The variable ‘i’ in the for loop will not. Why?\n",
    "\n",
    "While the variable index has file scope—that is, it exists across the entire file—the variable i is local scope, meaning it only lives within the for loop function."
   ]
  },
  {
   "cell_type": "markdown",
   "metadata": {},
   "source": [
    "## Popcorn hack question \n",
    "Create/complete the code in order to return the average grade of all grades in the list of grades.\n",
    "\n",
    "Have the code print “Man, you guys need to study more” if the grades are beneath a certain percentage.\n",
    "\n",
    "Bonus: Have the code iterate through the list and add some points to each grade because you’re a very generous grader."
   ]
  },
  {
   "cell_type": "code",
   "execution_count": 21,
   "metadata": {},
   "outputs": [
    {
     "name": "stdout",
     "output_type": "stream",
     "text": [
      "The average of the grades is: 77.83333333333333\n"
     ]
    }
   ],
   "source": [
    "\n",
    "public class GradeAverage {\n",
    "    public static void main(String[] args) {\n",
    "        /* grades out of 100 */\n",
    "        int[] grades = {90, 50, 70, 20, 80, 97};\n",
    "        int sum = 0;\n",
    "        double average;\n",
    "        \n",
    "        // add curve \n",
    "        for (int i = 0; i < grades.length; i++) {\n",
    "            grades[i] += 10;\n",
    "        }\n",
    "        \n",
    "        for (int i = 0; i<grades.length;i++) {\n",
    "            sum += grades[i]; \n",
    "        }\n",
    "       \n",
    "        average = (double) sum / grades.length; /* missing code */\n",
    "        \n",
    "        System.out.println(\"The average of the grades is: \" + average);\n",
    "    }\n",
    "}\n",
    "\n",
    "GradeAverage.main(null);\n"
   ]
  },
  {
   "cell_type": "markdown",
   "metadata": {},
   "source": [
    "## 6.3 Arrays\n",
    "Given the following code, rewrite the script to use a for each loop instead of the for loop and fix the problem\n"
   ]
  },
  {
   "cell_type": "code",
   "execution_count": 22,
   "metadata": {},
   "outputs": [],
   "source": [
    "public class CarMapExample {\n",
    "    public static void main(String[] args) {\n",
    "        // Creating the HashMap\n",
    "        Map<String, Integer> carMap = new HashMap<>();\n",
    "\n",
    "        // Adding entries to the HashMap\n",
    "        carMap.put(\"MortMobile\", 9999);\n",
    "        carMap.put(\"CSAwesomeCar\", 500);\n",
    "        carMap.put(\"ArrayceCar\", 5000);\n",
    "\n",
    "        // Using a for-each loop to iterate through the carMap\n",
    "        for (Map.Entry<String, Integer> entry : carMap.entrySet()) {\n",
    "            System.out.println(\"Car Name: \" + entry.getKey());\n",
    "            System.out.println(\"Car Value: \" + entry.getValue());\n",
    "        }\n",
    "    }\n",
    "}"
   ]
  },
  {
   "cell_type": "markdown",
   "metadata": {},
   "source": [
    "## Final Hack\n",
    "Finish the following code with a for each and normal for loop\n",
    "\n"
   ]
  },
  {
   "cell_type": "code",
   "execution_count": 23,
   "metadata": {},
   "outputs": [],
   "source": [
    "public class ArrayExample {\n",
    "    public static void main(String[] args) {\n",
    "        int[] nums = {1, 2, 3, 4, 5, 6, 2000};\n",
    "\n",
    "        // Using for-each loop (to print if the current number itself is even)\n",
    "        System.out.println(\"Using for-each loop to check if the number itself is even:\");\n",
    "        for (int number : nums) {\n",
    "            if (number % 2 == 0) {\n",
    "                System.out.println(number + \" is even.\");\n",
    "            }\n",
    "        }\n",
    "\n",
    "        // Using a normal for loop to check if the index is even\n",
    "        System.out.println(\"\\nUsing normal for loop to check if the index is even:\");\n",
    "        for (int i = 0; i < nums.length; i++) {\n",
    "            if (i % 2 == 0) {\n",
    "                System.out.println(\"Index \" + i + \": \" + nums[i]);\n",
    "            }\n",
    "        }\n",
    "    }\n",
    "}"
   ]
  },
  {
   "cell_type": "markdown",
   "metadata": {},
   "source": [
    "## 6.4 Algos\n",
    "Implement a function to find the minimum of the EVEN INDEXED elements in array of integers."
   ]
  },
  {
   "cell_type": "code",
   "execution_count": 24,
   "metadata": {},
   "outputs": [
    {
     "name": "stdout",
     "output_type": "stream",
     "text": [
      "1.0\n"
     ]
    }
   ],
   "source": [
    "private double findMinEven(int [] values) {\n",
    "    /*Function here */\n",
    "    int min = values[0];\n",
    "    for (int i = 0; i < values.length; i += 2) {\n",
    "        if (min > values[i]) {\n",
    "            min = values[i];\n",
    "        }\n",
    "    }\n",
    "    \n",
    "    return (double)min;\n",
    "}\n",
    "\n",
    "int[] nums = {1,2,3,4,5,6,1,4,1,3,2,2,1,1};\n",
    "System.out.println(findMinEven(nums));"
   ]
  },
  {
   "cell_type": "markdown",
   "metadata": {},
   "source": [
    "## Challange Hack\n",
    "Create a function that iterates through every X items and shifts only those elements Y shift left.\n",
    "\n",
    "Example: ({1, 2, 3, 4, 5, 6}, Y = 1, X = 2) Output: {5, 2, 1, 4, 3, 6}\n",
    "\n",
    "Example: ({1, 2, 3, 4, 5, 6, 7, 8, 9, 10}, Y = 2, X = 3) Output: {10, 2, 3, 1, 5, 6, 4, 8, 9, 7}"
   ]
  },
  {
   "cell_type": "code",
   "execution_count": 25,
   "metadata": {},
   "outputs": [],
   "source": [
    "public class ArrayShift {\n",
    "    \n",
    "    public static void shiftEveryXItems(int[] arr, int X, int Y) {\n",
    "        int n = arr.length;\n",
    "\n",
    "        for (int i = 0; i < n; i += X) {\n",
    "            int end = Math.min(i + X, n); \n",
    "\n",
    "            shiftLeft(arr, i, end, Y);\n",
    "        }\n",
    "    }\n",
    "\n",
    "    private static void shiftLeft(int[] arr, int start, int end, int Y) {\n",
    "        int length = end - start;\n",
    "        Y = Y % length;  \n",
    "\n",
    "        int[] temp = new int[length];\n",
    "\n",
    "        for (int i = 0; i < length; i++) {\n",
    "            temp[i] = arr[(start + i + Y) % length + start];\n",
    "        }\n",
    "\n",
    "        for (int i = 0; i < length; i++) {\n",
    "            arr[start + i] = temp[i];\n",
    "        }\n",
    "    }\n",
    "\n",
    "    public static void main(String[] args) {\n",
    "        int[] nums1 = {1, 2, 3, 4, 5, 6};\n",
    "        shiftEveryXItems(nums1, 2, 1);\n",
    "        System.out.println(\"Output for Example 1: \" + Arrays.toString(nums1)); \n",
    "\n",
    "        int[] nums2 = {1, 2, 3, 4, 5, 6, 7, 8, 9, 10};\n",
    "        shiftEveryXItems(nums2, 3, 2);\n",
    "        System.out.println(\"Output for Example 2: \" + Arrays.toString(nums2)); \n",
    "    }\n",
    "}"
   ]
  }
 ],
 "metadata": {
  "kernelspec": {
   "display_name": "java (IJava/j!)",
   "language": "java",
   "name": "jbang-ijava"
  },
  "language_info": {
   "codemirror_mode": "java",
   "file_extension": ".jshell",
   "mimetype": "text/x-java-source",
   "name": "java",
   "pygments_lexer": "java",
   "version": "17.0.11+7-LTS-207"
  },
  "orig_nbformat": 4
 },
 "nbformat": 4,
 "nbformat_minor": 2
}
