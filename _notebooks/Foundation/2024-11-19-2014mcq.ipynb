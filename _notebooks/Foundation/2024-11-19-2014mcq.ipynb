{
 "cells": [
  {
   "cell_type": "markdown",
   "metadata": {},
   "source": [
    "---\n",
    "layout: post\n",
    "title: 2014 Practice Exam MCQ Blog\n",
    "description:  2014 Practice Exam MCQ Blog\n",
    "type: issues \n",
    "comments: true\n",
    "---"
   ]
  },
  {
   "cell_type": "markdown",
   "metadata": {},
   "source": [
    "I scored a 24/40 on the 2024 College Board Practice Exam MCQ. I was dissapointed at the score I got but I know that it was mostly just small mistakes. I know I need to review the college board and team teaches again. In the future I should take my time and think about each question thoroughly so I can prepare myself for the AP Exam."
   ]
  },
  {
   "cell_type": "markdown",
   "metadata": {},
   "source": [
    "- Question 4: \n",
    "<img width=\"500\" alt=\"Screenshot 2024-11-19 at 10 20 03 AM\" src=\"https://github.com/user-attachments/assets/1948d210-1dfe-4824-ad4a-2e92e927409d\">\n",
    "My original answer is 2.333333 but I forgot about the x and y are both integers and it will round to 2 because of intger division. I spent 5 minutes on the question and I forgot to round. In the future I will analyze each integer.\n",
    "- Question 9:<img width=\"640\" alt=\"Screenshot 2024-11-19 at 10 26 38 AM\" src=\"https://github.com/user-attachments/assets/88c292fe-50e8-4087-a9af-44691a6b1af2\">\n",
    "My original answer was sum += key[I]; because it was a mistake and I had accident;y misclicked and I knew that the answer was sum+= key [i-1]; because of it would return the sum.\n",
    "- Question 10: <img width=\"1054\" alt=\"Screenshot 2024-11-19 at 10 31 29 AM\" src=\"https://github.com/user-attachments/assets/9bb85d7d-1578-4c5a-a50d-3341ea36f776\"> I said I only because I missed the key words and I thought the else statement would break if the data had a longth of 0, but I had to consider the key word, so the one element data contained was only 5. I spend a good amount of time on this question but I jsut don't think I read it thoroughly.\n",
    "- Question 12: \n",
    "- Question 14:\n",
    "- Question 15:\n",
    "- Question 24:\n",
    "- Question 25:\n",
    "- Question 28:\n",
    "- Question 29: \n",
    "- Question 33:\n",
    "- Question 34:\n",
    "- Question 36:\n",
    "- Question 37:\n",
    "- Question 38:\n",
    "- Question 38:"
   ]
  }
 ],
 "metadata": {
  "language_info": {
   "name": "python"
  },
  "orig_nbformat": 4
 },
 "nbformat": 4,
 "nbformat_minor": 2
}
