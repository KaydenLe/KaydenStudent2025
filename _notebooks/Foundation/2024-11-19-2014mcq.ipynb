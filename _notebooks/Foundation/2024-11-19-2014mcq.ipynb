{
 "cells": [
  {
   "cell_type": "markdown",
   "metadata": {},
   "source": [
    "---\n",
    "layout: post\n",
    "title: 2014 Practice Exam MCQ Blog\n",
    "description:  2014 Practice Exam MCQ Blog\n",
    "type: issues \n",
    "comments: true\n",
    "---"
   ]
  },
  {
   "cell_type": "markdown",
   "metadata": {},
   "source": [
    "I scored a 24/40 on the 2024 College Board Practice Exam MCQ. I was dissapointed at the score I got but I know that it was mostly just small mistakes. I know I need to review the college board and team teaches again. In the future I should take my time and think about each question thoroughly so I can prepare myself for the AP Exam."
   ]
  },
  {
   "cell_type": "markdown",
   "metadata": {},
   "source": [
    "- Question 4: <img width=\"500\" alt=\"Screenshot 2024-11-19 at 10 20 03 AM\" src=\"https://github.com/user-attachments/assets/1948d210-1dfe-4824-ad4a-2e92e927409d\">\n",
    "My original answer is 2.333333 but I forgot about the x and y are both integers and it will round to 2 because of intger division. I spent 5 minutes on the question and I forgot to round. In the future I will analyze each integer.\n",
    "\n",
    "- Question 9: <img width=\"640\" alt=\"Screenshot 2024-11-19 at 10 26 38 AM\" src=\"https://github.com/user-attachments/assets/88c292fe-50e8-4087-a9af-44691a6b1af2\">\n",
    "My original answer was sum += key[I]; because it was a mistake and I had accident;y misclicked and I knew that the answer was sum+= key [i-1]; because of it would return the sum.\n",
    "\n",
    "- Question 10: <img width=\"1054\" alt=\"Screenshot 2024-11-19 at 10 31 29 AM\" src=\"https://github.com/user-attachments/assets/9bb85d7d-1578-4c5a-a50d-3341ea36f776\"> I said I only because I missed the key words and I thought the else statement would break if the data had a longth of 0, but I had to consider the key word, so the one element data contained was only 5. I spend a good amount of time on this question but I jsut don't think I read it thoroughly.\n",
    "\n",
    "- Question 12: <img width=\"511\" alt=\"Screenshot 2024-11-19 at 12 03 36 PM\" src=\"https://github.com/user-attachments/assets/1529e0bc-2462-4492-811a-d37d5d319117\">\n",
    "\n",
    "- Question 14: <img width=\"938\" alt=\"image\" src=\"https://github.com/user-attachments/assets/dbd8b0cb-9a76-41bc-8abb-fdb6c6c1d61b\">\n",
    "\n",
    "- Question 15: <img width=\"983\" alt=\"Screenshot 2024-11-19 at 11 56 59 AM\" src=\"https://github.com/user-attachments/assets/5f973357-1563-44bc-9570-daccb91d04cc\"> I chose E, since I saw I as correct, but I didn’t recognize how III returns true or false only based on the first two elements. This means that the 2nd element could be greater than the 1st element, but all other elements are decreasing and it would still return true. Option choice I is the code block that works since Option Choice II would have an ArrayIndexOutOfBoundsException.\n",
    "- Question 24: <img width=\"515\" alt=\"Screenshot 2024-11-19 at 11 58 45 AM\" src=\"https://github.com/user-attachments/assets/22369562-c301-459d-a81e-6c3887bfacdd\">\n",
    "- Question 25:<img width=\"1065\" alt=\"Screenshot 2024-11-19 at 11 59 08 AM\" src=\"https://github.com/user-attachments/assets/d4700ad4-83ff-47a1-bb44-3d52ac5f22f7\">\n",
    "- Question 28:<img width=\"710\" alt=\"Screenshot 2024-11-19 at 11 59 33 AM\" src=\"https://github.com/user-attachments/assets/f3b14a1f-9efd-4925-8e92-2b7c25f7b0ad\">\n",
    "- Question 29:<img width=\"612\" alt=\"Screenshot 2024-11-19 at 11 59 51 AM\" src=\"https://github.com/user-attachments/assets/0cef8e14-0643-4bda-951f-5338179b6f62\">\n",
    "- Question 33:<img width=\"371\" alt=\"Screenshot 2024-11-19 at 12 00 16 PM\" src=\"https://github.com/user-attachments/assets/cbf0a148-289f-4b61-87f2-e0fb7bd14b6d\">\n",
    "- Question 34:<img width=\"620\" alt=\"image\" src=\"https://github.com/user-attachments/assets/e786a6f6-3981-4832-8272-6b76525d21c8\">\n",
    "- Question 36:<img width=\"537\" alt=\"Screenshot 2024-11-19 at 12 01 45 PM\" src=\"https://github.com/user-attachments/assets/a9ed122b-68a9-4050-a0f6-8680243d5da6\">\n",
    "- Question 37:<img width=\"735\" alt=\"Screenshot 2024-11-19 at 12 02 06 PM\" src=\"https://github.com/user-attachments/assets/a9e47dc7-5173-4099-a11a-aa9d76a7c60b\">\n",
    "- Question 38:<img width=\"691\" alt=\"image\" src=\"https://github.com/user-attachments/assets/9ec8ca9f-20ff-422b-bd33-2f8af0cc5af4\">\n",
    "- Question 40:<img width=\"464\" alt=\"image\" src=\"https://github.com/user-attachments/assets/9f885127-6caa-4988-84dc-1df9c22836a6\">"
   ]
  }
 ],
 "metadata": {
  "language_info": {
   "name": "python"
  },
  "orig_nbformat": 4
 },
 "nbformat": 4,
 "nbformat_minor": 2
}
