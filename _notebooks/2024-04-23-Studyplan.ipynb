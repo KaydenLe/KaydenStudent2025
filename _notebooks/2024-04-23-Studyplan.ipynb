{
 "cells": [
  {
   "cell_type": "markdown",
   "metadata": {},
   "source": [
    "---\n",
    "layout: post\n",
    "title: Study Plan\n",
    "description:  Study plan for AP Exam\n",
    "type: issues \n",
    "comments: true\n",
    "---"
   ]
  },
  {
   "cell_type": "markdown",
   "metadata": {},
   "source": [
    "# AP Exam Review Checklist\n",
    "\n",
    "## General Review\n",
    "- [ ] Created a full-topic flowchart  \n",
    "- [ ] Practiced FRQs (all 4 types)  \n",
    "- [ ] Timed FRQ practice  \n",
    "- [ ] College Board MCQs  \n",
    "- [ ] Used AP Classroom progress checks  \n",
    "- [ ] Read scoring guidelines + samples  \n",
    "- [ ] Reviewed formula sheet given College Board MCQs  \n",
    "- [ ] Viewed image: Full topic flowchart  \n",
    "- [ ] Creating and Storing Objects\n",
    "- [ ] Static Variables and Methods  \n",
    "- [ ] Scope and Access  \n",
    "- [ ] Polymorphism  \n",
    "- [ ] Compound Boolean Expressions  \n",
    "- [ ] Equivalent Boolean Expressions  \n",
    "- [ ] Reviewed all 10 units  \n"
   ]
  },
  {
   "cell_type": "markdown",
   "metadata": {},
   "source": [
    "# APCSA Study Checklist (April 21 – May 6)\n",
    "\n",
    "| Date       | Topic                                | Task                                      |\n",
    "|------------|---------------------------------------|-------------------------------------------|\n",
    "| Apr 21     | Unit 1: Primitive Types               | Review data types, variables, expressions |\n",
    "| Apr 21     | Unit 1: Primitive Types               | Practice basic arithmetic & casting       |\n",
    "| Apr 22     | Unit 2: Using Objects                 | Practice method calls and Math class      |\n",
    "| Apr 22     | Unit 2: Using Objects                 | Review String methods                     |\n",
    "| Apr 23     | Unit 3: Boolean Expressions & if      | Practice if, else if, and logic operators |\n",
    "| Apr 24     | Unit 4: Iteration                     | Practice while and for loops              |\n",
    "| Apr 25     | Unit 5: Writing Classes               | Define constructors and instance vars     |\n",
    "| Apr 26     | Unit 5: Writing Classes               | Practice writing methods                  |\n",
    "| Apr 27     | Unit 6: Arrays                        | Declare, initialize, and loop over arrays |\n",
    "| Apr 28     | Unit 7: ArrayList                     | Use ArrayList methods (add, remove, etc.) |\n",
    "| Apr 29     | Unit 8: 2D Arrays                     | Loop through 2D arrays                    |\n",
    "| Apr 30     | Unit 9: Inheritance                   | Understand `extends`, super, polymorphism |\n",
    "| May 1      | Unit 10: Recursion                    | Trace and write simple recursive methods  |\n",
    "| May 2      | All Units                             | Practice FRQs (all 4 types)               |\n",
    "| May 3      | All Units                             | Timed FRQ practice                        |\n",
    "| May 4      | All Units                             | Complete College Board MCQs               |\n",
    "| May 4      | All Units                             | Use AP Classroom progress checks          |\n",
    "| May 5      | All Units                             | Review scoring guidelines + sample FRQs   |\n",
    "| May 5      | All Units                             | Study formula/reference sheet             |\n",
    "| May 6      | Review Topics                         | Creating and Storing Objects              |\n",
    "| May 6      | Review Topics                         | Static Variables and Methods              |\n",
    "| May 6      | Review Topics                         | Scope and Access                          |\n",
    "| May 6      | Review Topics                         | Polymorphism                              |\n",
    "| May 6      | Review Topics                         | Compound Boolean Expressions              |\n",
    "| May 6      | Review Topics                         | Equivalent Boolean Expressions            |\n"
   ]
  },
  {
   "cell_type": "markdown",
   "metadata": {},
   "source": [
    "Team Teaches to refer to\n",
    "- [Feeder Class Simulation](https://kaydenle.github.io/KaydenStudent2025/methods_per3/tester)\n",
    "- [Selection, Insert, & Big O](https://kaydenle.github.io/KaydenStudent2025/data_structures/selection-insert/toolkit)\n",
    "- [Calculator Enactment](https://kaydenle.github.io/KaydenStudent2025/2025/03/17/calculatorenactment_IPYNB_2_.html)\n",
    "- [2D Arrays Pt 2 - Refresher](https://kaydenle.github.io/KaydenStudent2025/csa/frqs/p3/2darrays2/refresher)\n",
    "- [2D Arrays](https://kaydenle.github.io/KaydenStudent2025/csa/p3-2darrays4)\n",
    "- [Recursion ](https://kaydenle.github.io/KaydenStudent2025/recursion/p3_recursion_part1)\n",
    "- [Unit 7 ArrayLists](https://kaydenle.github.io/KaydenStudent2025/csa/unit7-p1/unit7-homepage)\n",
    "- [Searching](https://kaydenle.github.io/KaydenStudent2025/csa/unit7-p1/unit7-5)\n",
    "- [Sorting](https://kaydenle.github.io/KaydenStudent2025/csa/unit7-p1/unit7-6)"
   ]
  },
  {
   "cell_type": "markdown",
   "metadata": {},
   "source": [
    "a"
   ]
  }
 ],
 "metadata": {
  "language_info": {
   "name": "python"
  },
  "orig_nbformat": 4
 },
 "nbformat": 4,
 "nbformat_minor": 2
}
