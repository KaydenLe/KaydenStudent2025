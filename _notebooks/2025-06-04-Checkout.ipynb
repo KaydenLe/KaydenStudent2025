{
 "cells": [
  {
   "cell_type": "markdown",
   "metadata": {},
   "source": [
    "---\n",
    "layout: post\n",
    "title: CSA Checkout\n",
    "description:  CSA Checkout\n",
    "type: issues \n",
    "comments: true\n",
    "---"
   ]
  },
  {
   "cell_type": "markdown",
   "metadata": {},
   "source": [
    "## About Me\n",
    "Hello! I’m a high school student with a strong interest in both Computer Science and Business. I’m especially inspired by the way technology can drive social change. From creating tools that amplify student voices to using data to support better civic decisions, I view coding as more than just a technical ability to me, it’s a powerful way to make a difference.\n",
    "\n",
    "---"
   ]
  },
  {
   "cell_type": "markdown",
   "metadata": {},
   "source": [
    "## Projects Overview & Team Collaboration\n",
    "\n",
    "#### Team Teach Toolkit  \n",
    "**Role:** Full Stack Developer  \n",
    "\n",
    "Collaborated with another developer to create a web platform that enables student-led coding instruction in high school settings.  \n",
    "- Designed tools for teachers to schedule sessions, review lesson proposals, and track student performance.  \n",
    "- Enabled students to submit, register for, and teach peer-led coding lessons.\n",
    "\n",
    "#### Multicompartment Brain Imaging  \n",
    "**Role:** Research Intern & Developer  \n",
    "\n",
    "Contributed to a project focused on advancing MRI technology to differentiate between various brain components—such as myelin, macromolecules, and water—key to understanding conditions like multiple sclerosis.  \n",
    "- Analyzed MRI datasets to compare brain composition in healthy versus affected individuals.  \n",
    "- Wrote MATLAB code to process scans and compute key metrics, such as myelin and free water levels, across different brain regions.\n",
    "\n",
    "---\n"
   ]
  },
  {
   "cell_type": "markdown",
   "metadata": {},
   "source": [
    "#### Teamwork Methodologies & Artifacts\n",
    "\n",
    "Gained experience working in Scrum-based environments, using Trello and GitHub Projects to plan and track progress.  \n",
    "- Applied Agile practices including daily stand-ups, weekly retrospectives, and prioritizing minimum viable products (MVPs).  \n",
    "- Collaborated on user interface and system architecture through tools like Figma and Lucidchart.  \n",
    "- Produced detailed README documentation and video walkthroughs to support asynchronous collaboration.\n",
    "\n",
    "---\n"
   ]
  },
  {
   "cell_type": "markdown",
   "metadata": {},
   "source": [
    "#### Skills\n",
    "\n",
    "| Layer                         | Skills                                                                                     |\n",
    "|------------------------------|-------------------------------------------------------------------------------------------------|\n",
    "| **Frontend**         | HTML5, Tailwind CSS, JavaScript,React     |\n",
    "| **Backend**          | Java, Spring Boot, Python (Flask)|\n",
    "| **Database**     | SQLite, MySQL|\n",
    "| **Tools**      | \tGit, GitHub, Postman,VS Code|\n",
    "\n"
   ]
  },
  {
   "cell_type": "markdown",
   "metadata": {},
   "source": [
    "## GitHub\n",
    "- [github.com](https://github.com/KaydenLe)\n",
    "- Team Teach Toolkit: [Graph Heuristics](https://nighthawkcoders.github.io/portfolio_2025/graphs/intro)\n",
    "\n",
    "---\n",
    "\n",
    "## Showcasing Project\n",
    "- Presentend Toolkit at N@tM at Del Norte High School\n",
    "    - Demo for CS teacher and the public\n",
    "\n",
    "---"
   ]
  },
  {
   "cell_type": "markdown",
   "metadata": {},
   "source": [
    "## NFT\n",
    "\n",
    "- Collaborated in Scrum-based teams, using Trello and GitHub Projects to manage tasks and track progress.\n",
    "- Followed Agile methodologies, weekly retrospectives, and development cycles.\n",
    "- Co-designed user interfaces and system architecture using tools like Figma and boostrap.\n",
    "- Created detailed README files and demo videos to support effective asynchronous communication and collaboration.\n"
   ]
  }
 ],
 "metadata": {
  "language_info": {
   "name": "python"
  },
  "orig_nbformat": 4
 },
 "nbformat": 4,
 "nbformat_minor": 2
}
