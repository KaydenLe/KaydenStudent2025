{
 "cells": [
  {
   "cell_type": "markdown",
   "metadata": {},
   "source": [
    "## Planning\n",
    "[https://github.com/CSA-Coders-2025/Planning-Repository-Issue-House-/issues/94](https://github.com/CSA-Coders-2025/Planning-Repository-Issue-House-/issues/94)\n",
    "\n",
    "Fixed bugs and fixed comment section so students can write comments along with their submission to assignments. I also added the buttons to the student homepage.\n",
    "\n",
    "<img width=\"1242\" alt=\"Image\" src=\"https://github.com/user-attachments/assets/8481b843-cee2-4e15-ba78-8ee7b3029ca2\" />\n",
    "\n",
    "Made a grade average viewer.\n",
    "\n",
    "<img width=\"952\" alt=\"Image\" src=\"https://github.com/user-attachments/assets/79da876d-38cd-4f0c-b312-b434b0db11d5\" />\n",
    "\n",
    "## Issues and key commits\n",
    "\n",
    "[Average Grade Display](https://github.com/CSA-Coders-2025/CSA_Combined_Frontend_Fork/commit/942984111fb2db96d4c7908ccb662a0907a65073)\n",
    "[Buttons](https://github.com/CSA-Coders-2025/CSA_Combined_Frontend_Fork/commit/749b90ffcb84685bc42cd5e06a565d857ffc7d87)\n",
    "\n",
    "## Retrospective\n",
    "- Learned about different frontend features including keyframe\n",
    "- Iteration is pretty important to do as the version you currently have won’t necessarily be the best final version you could produce\n",
    "- Sometimes simplicity is best(especially in frontend it looks better without the glows in my opinion)\n",
    "- Made Notes on the FRQ team teaches and collected homework together to view before ap exam for extra prep"
   ]
  }
 ],
 "metadata": {
  "language_info": {
   "name": "python"
  },
  "orig_nbformat": 4
 },
 "nbformat": 4,
 "nbformat_minor": 2
}
